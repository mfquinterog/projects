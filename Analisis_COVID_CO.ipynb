{
  "nbformat": 4,
  "nbformat_minor": 0,
  "metadata": {
    "colab": {
      "provenance": [],
      "toc_visible": true
    },
    "kernelspec": {
      "name": "python3",
      "display_name": "Python 3"
    },
    "language_info": {
      "name": "python"
    }
  },
  "cells": [
    {
      "cell_type": "markdown",
      "source": [
        "# **Análisis de los casos positivos de COVID-19 en Colombia**"
      ],
      "metadata": {
        "id": "hjQkiCseRmWc"
      }
    },
    {
      "cell_type": "code",
      "execution_count": null,
      "metadata": {
        "id": "OPSJNabnsiAp"
      },
      "outputs": [],
      "source": [
        "!pip install -q geopandas==0.9.0"
      ]
    },
    {
      "cell_type": "code",
      "source": [
        "import numpy as np\n",
        "import pandas as pd\n",
        "import matplotlib as mpl\n",
        "import matplotlib.pyplot as plt\n",
        "import geopandas as gpd\n",
        "import seaborn as sns\n",
        "%matplotlib inline\n",
        "plt.rcParams['figure.dpi'] = 110   "
      ],
      "metadata": {
        "id": "4AD9YyPqu78b"
      },
      "execution_count": null,
      "outputs": []
    },
    {
      "cell_type": "markdown",
      "source": [
        "# Entendimiento del negocio"
      ],
      "metadata": {
        "id": "AeuJVuo719Ry"
      }
    },
    {
      "cell_type": "markdown",
      "source": [
        "Durante el año 2020 debido a la pandemia de COVID-19, en Colombia se sometió a la población a diferentes medidas preventivas para mitigar la propagación del virus entre ellas el aislamiento obligatorio que rigió desde marzo de ese año y se extendió hasta el 31 de agosto del mismo año, y el uso obligatorio del tapabocas. Estas medidas se han venido modificando hasta la actualidad. El 13 de marzo de 2021, en Colombia, se administró la primera dosis y para el 29 de abril del año 2022, 82.7% de la población tenía al menos una dosis y el 69.6% tenía el esquema completo de vacunación, según las estadísticas provistas por Our World in Dat.\n",
        "\n",
        "En este punto es necesario estudiar las relaciones entre las características de la población contagiada con el fin de determinar factores de contagio, poblaciones vulnerables y comparaciones de los resultados en los diferentes sectores de la población, para evaluar las medidas que han sido tomadas por el gobierno y las autoridades responsables y proponer medidas eficaces para reducir los riesgos de contagio y de muerte en los individuos.\n",
        "\n",
        "\n",
        "\n",
        "\n"
      ],
      "metadata": {
        "id": "xH-9EDUI8uRE"
      }
    },
    {
      "cell_type": "markdown",
      "source": [
        "\n",
        "\n",
        "> **Objetivo**\n",
        " \n",
        "Con el fin de analizar la relación entre algunas de las características de la población colombiana, realizar comparaciones entre los diferentes sectores de la población para identificar características de riesgo y proponer medidas que se acoplen a estos hallazgos. Se emplearon los datos abiertos de casos positivos de contagio publicados por el Ministerio de tecnologías de la información y comunicaciones durante el periodo entre el 3 de abril del año 2021 y el 2 de mayo del año 2022.\n",
        "\n",
        "\n"
      ],
      "metadata": {
        "id": "OMYTuiNZioLY"
      }
    },
    {
      "cell_type": "markdown",
      "source": [
        "A continuación se cargarán los datos anteriormente mencionados, dispuestos en un repositorio de github, seguidos de las cinco primeras filas que se encuentran en el conjunto de datos, cada fila corresponde a un caso en el que se haya identificado un individuo contagiado de COVID."
      ],
      "metadata": {
        "id": "TD24p4qalU-H"
      }
    },
    {
      "cell_type": "code",
      "source": [
        "url = 'https://github.com/SlimShady9/dataset/raw/main/Casos_positivos_de_COVID-19_en_Colombia.csv'\n",
        "covidco_cpo = pd.read_csv(url)\n",
        "\n",
        "\n",
        "covidco_cpo.head()"
      ],
      "metadata": {
        "colab": {
          "base_uri": "https://localhost:8080/",
          "height": 491
        },
        "id": "B5idaL_mvNxF",
        "outputId": "e20738eb-e6bf-47f4-9886-413b05eda38b"
      },
      "execution_count": null,
      "outputs": [
        {
          "output_type": "stream",
          "name": "stderr",
          "text": [
            "/usr/local/lib/python3.7/dist-packages/IPython/core/interactiveshell.py:3326: DtypeWarning: Columns (14) have mixed types.Specify dtype option on import or set low_memory=False.\n",
            "  exec(code_obj, self.user_global_ns, self.user_ns)\n"
          ]
        },
        {
          "output_type": "execute_result",
          "data": {
            "text/plain": [
              "     fecha reporte web  ID de caso Fecha de notificación  \\\n",
              "0  2021-03-04 00:00:00     2265685   2021-03-02 00:00:00   \n",
              "1  2021-03-04 00:00:00     2265686   2021-03-02 00:00:00   \n",
              "2  2021-03-04 00:00:00     2265687   2021-03-02 00:00:00   \n",
              "3  2021-03-04 00:00:00     2265688   2021-03-02 00:00:00   \n",
              "4  2021-03-04 00:00:00     2265689   2021-03-02 00:00:00   \n",
              "\n",
              "   Código DIVIPOLA departamento Nombre departamento  \\\n",
              "0                            11              BOGOTA   \n",
              "1                            11              BOGOTA   \n",
              "2                            11              BOGOTA   \n",
              "3                            11              BOGOTA   \n",
              "4                            11              BOGOTA   \n",
              "\n",
              "   Código DIVIPOLA municipio Nombre municipio  Edad  Unidad de medida de edad  \\\n",
              "0                      11001           BOGOTA    49                         1   \n",
              "1                      11001           BOGOTA    49                         1   \n",
              "2                      11001           BOGOTA    51                         1   \n",
              "3                      11001           BOGOTA    51                         1   \n",
              "4                      11001           BOGOTA    51                         1   \n",
              "\n",
              "  Sexo  ... Código ISO del país Nombre del país  Recuperado  \\\n",
              "0    M  ...                 NaN             NaN  Recuperado   \n",
              "1    M  ...                 NaN             NaN  Recuperado   \n",
              "2    F  ...                 NaN             NaN  Recuperado   \n",
              "3    F  ...                 NaN             NaN  Recuperado   \n",
              "4    F  ...                 NaN             NaN  Recuperado   \n",
              "\n",
              "   Fecha de inicio de síntomas Fecha de muerte Fecha de diagnóstico  \\\n",
              "0          2021-02-25 00:00:00             NaN  2021-03-03 00:00:00   \n",
              "1          2021-02-23 00:00:00             NaN  2021-03-03 00:00:00   \n",
              "2          2021-02-24 00:00:00             NaN  2021-03-03 00:00:00   \n",
              "3          2021-02-27 00:00:00             NaN  2021-03-03 00:00:00   \n",
              "4          2021-03-01 00:00:00             NaN  2021-03-03 00:00:00   \n",
              "\n",
              "  Fecha de recuperación Tipo de recuperación Pertenencia étnica  \\\n",
              "0   2021-03-16 00:00:00               Tiempo                  6   \n",
              "1   2021-03-16 00:00:00               Tiempo                  6   \n",
              "2   2021-03-16 00:00:00               Tiempo                  6   \n",
              "3   2021-03-13 00:00:00               Tiempo                  6   \n",
              "4   2021-03-16 00:00:00               Tiempo                  6   \n",
              "\n",
              "  Nombre del grupo étnico  \n",
              "0                     NaN  \n",
              "1                     NaN  \n",
              "2                     NaN  \n",
              "3                     NaN  \n",
              "4                     NaN  \n",
              "\n",
              "[5 rows x 23 columns]"
            ],
            "text/html": [
              "\n",
              "  <div id=\"df-9b78edae-76be-4973-a8f0-b7797d6482f9\">\n",
              "    <div class=\"colab-df-container\">\n",
              "      <div>\n",
              "<style scoped>\n",
              "    .dataframe tbody tr th:only-of-type {\n",
              "        vertical-align: middle;\n",
              "    }\n",
              "\n",
              "    .dataframe tbody tr th {\n",
              "        vertical-align: top;\n",
              "    }\n",
              "\n",
              "    .dataframe thead th {\n",
              "        text-align: right;\n",
              "    }\n",
              "</style>\n",
              "<table border=\"1\" class=\"dataframe\">\n",
              "  <thead>\n",
              "    <tr style=\"text-align: right;\">\n",
              "      <th></th>\n",
              "      <th>fecha reporte web</th>\n",
              "      <th>ID de caso</th>\n",
              "      <th>Fecha de notificación</th>\n",
              "      <th>Código DIVIPOLA departamento</th>\n",
              "      <th>Nombre departamento</th>\n",
              "      <th>Código DIVIPOLA municipio</th>\n",
              "      <th>Nombre municipio</th>\n",
              "      <th>Edad</th>\n",
              "      <th>Unidad de medida de edad</th>\n",
              "      <th>Sexo</th>\n",
              "      <th>...</th>\n",
              "      <th>Código ISO del país</th>\n",
              "      <th>Nombre del país</th>\n",
              "      <th>Recuperado</th>\n",
              "      <th>Fecha de inicio de síntomas</th>\n",
              "      <th>Fecha de muerte</th>\n",
              "      <th>Fecha de diagnóstico</th>\n",
              "      <th>Fecha de recuperación</th>\n",
              "      <th>Tipo de recuperación</th>\n",
              "      <th>Pertenencia étnica</th>\n",
              "      <th>Nombre del grupo étnico</th>\n",
              "    </tr>\n",
              "  </thead>\n",
              "  <tbody>\n",
              "    <tr>\n",
              "      <th>0</th>\n",
              "      <td>2021-03-04 00:00:00</td>\n",
              "      <td>2265685</td>\n",
              "      <td>2021-03-02 00:00:00</td>\n",
              "      <td>11</td>\n",
              "      <td>BOGOTA</td>\n",
              "      <td>11001</td>\n",
              "      <td>BOGOTA</td>\n",
              "      <td>49</td>\n",
              "      <td>1</td>\n",
              "      <td>M</td>\n",
              "      <td>...</td>\n",
              "      <td>NaN</td>\n",
              "      <td>NaN</td>\n",
              "      <td>Recuperado</td>\n",
              "      <td>2021-02-25 00:00:00</td>\n",
              "      <td>NaN</td>\n",
              "      <td>2021-03-03 00:00:00</td>\n",
              "      <td>2021-03-16 00:00:00</td>\n",
              "      <td>Tiempo</td>\n",
              "      <td>6</td>\n",
              "      <td>NaN</td>\n",
              "    </tr>\n",
              "    <tr>\n",
              "      <th>1</th>\n",
              "      <td>2021-03-04 00:00:00</td>\n",
              "      <td>2265686</td>\n",
              "      <td>2021-03-02 00:00:00</td>\n",
              "      <td>11</td>\n",
              "      <td>BOGOTA</td>\n",
              "      <td>11001</td>\n",
              "      <td>BOGOTA</td>\n",
              "      <td>49</td>\n",
              "      <td>1</td>\n",
              "      <td>M</td>\n",
              "      <td>...</td>\n",
              "      <td>NaN</td>\n",
              "      <td>NaN</td>\n",
              "      <td>Recuperado</td>\n",
              "      <td>2021-02-23 00:00:00</td>\n",
              "      <td>NaN</td>\n",
              "      <td>2021-03-03 00:00:00</td>\n",
              "      <td>2021-03-16 00:00:00</td>\n",
              "      <td>Tiempo</td>\n",
              "      <td>6</td>\n",
              "      <td>NaN</td>\n",
              "    </tr>\n",
              "    <tr>\n",
              "      <th>2</th>\n",
              "      <td>2021-03-04 00:00:00</td>\n",
              "      <td>2265687</td>\n",
              "      <td>2021-03-02 00:00:00</td>\n",
              "      <td>11</td>\n",
              "      <td>BOGOTA</td>\n",
              "      <td>11001</td>\n",
              "      <td>BOGOTA</td>\n",
              "      <td>51</td>\n",
              "      <td>1</td>\n",
              "      <td>F</td>\n",
              "      <td>...</td>\n",
              "      <td>NaN</td>\n",
              "      <td>NaN</td>\n",
              "      <td>Recuperado</td>\n",
              "      <td>2021-02-24 00:00:00</td>\n",
              "      <td>NaN</td>\n",
              "      <td>2021-03-03 00:00:00</td>\n",
              "      <td>2021-03-16 00:00:00</td>\n",
              "      <td>Tiempo</td>\n",
              "      <td>6</td>\n",
              "      <td>NaN</td>\n",
              "    </tr>\n",
              "    <tr>\n",
              "      <th>3</th>\n",
              "      <td>2021-03-04 00:00:00</td>\n",
              "      <td>2265688</td>\n",
              "      <td>2021-03-02 00:00:00</td>\n",
              "      <td>11</td>\n",
              "      <td>BOGOTA</td>\n",
              "      <td>11001</td>\n",
              "      <td>BOGOTA</td>\n",
              "      <td>51</td>\n",
              "      <td>1</td>\n",
              "      <td>F</td>\n",
              "      <td>...</td>\n",
              "      <td>NaN</td>\n",
              "      <td>NaN</td>\n",
              "      <td>Recuperado</td>\n",
              "      <td>2021-02-27 00:00:00</td>\n",
              "      <td>NaN</td>\n",
              "      <td>2021-03-03 00:00:00</td>\n",
              "      <td>2021-03-13 00:00:00</td>\n",
              "      <td>Tiempo</td>\n",
              "      <td>6</td>\n",
              "      <td>NaN</td>\n",
              "    </tr>\n",
              "    <tr>\n",
              "      <th>4</th>\n",
              "      <td>2021-03-04 00:00:00</td>\n",
              "      <td>2265689</td>\n",
              "      <td>2021-03-02 00:00:00</td>\n",
              "      <td>11</td>\n",
              "      <td>BOGOTA</td>\n",
              "      <td>11001</td>\n",
              "      <td>BOGOTA</td>\n",
              "      <td>51</td>\n",
              "      <td>1</td>\n",
              "      <td>F</td>\n",
              "      <td>...</td>\n",
              "      <td>NaN</td>\n",
              "      <td>NaN</td>\n",
              "      <td>Recuperado</td>\n",
              "      <td>2021-03-01 00:00:00</td>\n",
              "      <td>NaN</td>\n",
              "      <td>2021-03-03 00:00:00</td>\n",
              "      <td>2021-03-16 00:00:00</td>\n",
              "      <td>Tiempo</td>\n",
              "      <td>6</td>\n",
              "      <td>NaN</td>\n",
              "    </tr>\n",
              "  </tbody>\n",
              "</table>\n",
              "<p>5 rows × 23 columns</p>\n",
              "</div>\n",
              "      <button class=\"colab-df-convert\" onclick=\"convertToInteractive('df-9b78edae-76be-4973-a8f0-b7797d6482f9')\"\n",
              "              title=\"Convert this dataframe to an interactive table.\"\n",
              "              style=\"display:none;\">\n",
              "        \n",
              "  <svg xmlns=\"http://www.w3.org/2000/svg\" height=\"24px\"viewBox=\"0 0 24 24\"\n",
              "       width=\"24px\">\n",
              "    <path d=\"M0 0h24v24H0V0z\" fill=\"none\"/>\n",
              "    <path d=\"M18.56 5.44l.94 2.06.94-2.06 2.06-.94-2.06-.94-.94-2.06-.94 2.06-2.06.94zm-11 1L8.5 8.5l.94-2.06 2.06-.94-2.06-.94L8.5 2.5l-.94 2.06-2.06.94zm10 10l.94 2.06.94-2.06 2.06-.94-2.06-.94-.94-2.06-.94 2.06-2.06.94z\"/><path d=\"M17.41 7.96l-1.37-1.37c-.4-.4-.92-.59-1.43-.59-.52 0-1.04.2-1.43.59L10.3 9.45l-7.72 7.72c-.78.78-.78 2.05 0 2.83L4 21.41c.39.39.9.59 1.41.59.51 0 1.02-.2 1.41-.59l7.78-7.78 2.81-2.81c.8-.78.8-2.07 0-2.86zM5.41 20L4 18.59l7.72-7.72 1.47 1.35L5.41 20z\"/>\n",
              "  </svg>\n",
              "      </button>\n",
              "      \n",
              "  <style>\n",
              "    .colab-df-container {\n",
              "      display:flex;\n",
              "      flex-wrap:wrap;\n",
              "      gap: 12px;\n",
              "    }\n",
              "\n",
              "    .colab-df-convert {\n",
              "      background-color: #E8F0FE;\n",
              "      border: none;\n",
              "      border-radius: 50%;\n",
              "      cursor: pointer;\n",
              "      display: none;\n",
              "      fill: #1967D2;\n",
              "      height: 32px;\n",
              "      padding: 0 0 0 0;\n",
              "      width: 32px;\n",
              "    }\n",
              "\n",
              "    .colab-df-convert:hover {\n",
              "      background-color: #E2EBFA;\n",
              "      box-shadow: 0px 1px 2px rgba(60, 64, 67, 0.3), 0px 1px 3px 1px rgba(60, 64, 67, 0.15);\n",
              "      fill: #174EA6;\n",
              "    }\n",
              "\n",
              "    [theme=dark] .colab-df-convert {\n",
              "      background-color: #3B4455;\n",
              "      fill: #D2E3FC;\n",
              "    }\n",
              "\n",
              "    [theme=dark] .colab-df-convert:hover {\n",
              "      background-color: #434B5C;\n",
              "      box-shadow: 0px 1px 3px 1px rgba(0, 0, 0, 0.15);\n",
              "      filter: drop-shadow(0px 1px 2px rgba(0, 0, 0, 0.3));\n",
              "      fill: #FFFFFF;\n",
              "    }\n",
              "  </style>\n",
              "\n",
              "      <script>\n",
              "        const buttonEl =\n",
              "          document.querySelector('#df-9b78edae-76be-4973-a8f0-b7797d6482f9 button.colab-df-convert');\n",
              "        buttonEl.style.display =\n",
              "          google.colab.kernel.accessAllowed ? 'block' : 'none';\n",
              "\n",
              "        async function convertToInteractive(key) {\n",
              "          const element = document.querySelector('#df-9b78edae-76be-4973-a8f0-b7797d6482f9');\n",
              "          const dataTable =\n",
              "            await google.colab.kernel.invokeFunction('convertToInteractive',\n",
              "                                                     [key], {});\n",
              "          if (!dataTable) return;\n",
              "\n",
              "          const docLinkHtml = 'Like what you see? Visit the ' +\n",
              "            '<a target=\"_blank\" href=https://colab.research.google.com/notebooks/data_table.ipynb>data table notebook</a>'\n",
              "            + ' to learn more about interactive tables.';\n",
              "          element.innerHTML = '';\n",
              "          dataTable['output_type'] = 'display_data';\n",
              "          await google.colab.output.renderOutput(dataTable, element);\n",
              "          const docLink = document.createElement('div');\n",
              "          docLink.innerHTML = docLinkHtml;\n",
              "          element.appendChild(docLink);\n",
              "        }\n",
              "      </script>\n",
              "    </div>\n",
              "  </div>\n",
              "  "
            ]
          },
          "metadata": {},
          "execution_count": 4
        }
      ]
    },
    {
      "cell_type": "markdown",
      "source": [
        "Y a continuación se observan las filas correspondientes a los últimos cinco casos registrados en el conjunto de datos."
      ],
      "metadata": {
        "id": "gk-pEH7WoDRP"
      }
    },
    {
      "cell_type": "code",
      "source": [
        "covidco_cpo.tail()"
      ],
      "metadata": {
        "colab": {
          "base_uri": "https://localhost:8080/",
          "height": 456
        },
        "id": "37Azc7ho1tNM",
        "outputId": "982128cf-4396-4b91-84b1-d32dba91ca63"
      },
      "execution_count": null,
      "outputs": [
        {
          "output_type": "execute_result",
          "data": {
            "text/plain": [
              "           fecha reporte web  ID de caso Fecha de notificación  \\\n",
              "6304312  2022-02-05 00:00:00     5956386   2022-01-19 00:00:00   \n",
              "6304313  2022-02-05 00:00:00     5956387   2022-01-19 00:00:00   \n",
              "6304314  2022-02-05 00:00:00     5956388   2022-01-19 00:00:00   \n",
              "6304315  2022-02-05 00:00:00     5956389   2022-01-19 00:00:00   \n",
              "6304316  2022-02-05 00:00:00     5956390   2022-01-19 00:00:00   \n",
              "\n",
              "         Código DIVIPOLA departamento Nombre departamento  \\\n",
              "6304312                            50                META   \n",
              "6304313                            50                META   \n",
              "6304314                            50                META   \n",
              "6304315                            50                META   \n",
              "6304316                            50                META   \n",
              "\n",
              "         Código DIVIPOLA municipio Nombre municipio  Edad  \\\n",
              "6304312                      50001    VILLAVICENCIO    47   \n",
              "6304313                      50001    VILLAVICENCIO    39   \n",
              "6304314                      50001    VILLAVICENCIO    35   \n",
              "6304315                      50001    VILLAVICENCIO    11   \n",
              "6304316                      50001    VILLAVICENCIO    34   \n",
              "\n",
              "         Unidad de medida de edad Sexo  ... Código ISO del país  \\\n",
              "6304312                         1    M  ...                 NaN   \n",
              "6304313                         1    M  ...                 NaN   \n",
              "6304314                         1    M  ...                 NaN   \n",
              "6304315                         1    M  ...                 NaN   \n",
              "6304316                         1    F  ...                 NaN   \n",
              "\n",
              "        Nombre del país  Recuperado  Fecha de inicio de síntomas  \\\n",
              "6304312             NaN  Recuperado          2022-01-15 00:00:00   \n",
              "6304313             NaN  Recuperado          2022-01-15 00:00:00   \n",
              "6304314             NaN  Recuperado          2022-01-15 00:00:00   \n",
              "6304315             NaN  Recuperado          2022-01-15 00:00:00   \n",
              "6304316             NaN  Recuperado          2022-01-15 00:00:00   \n",
              "\n",
              "        Fecha de muerte Fecha de diagnóstico Fecha de recuperación  \\\n",
              "6304312             NaN  2022-01-30 00:00:00   2022-02-06 00:00:00   \n",
              "6304313             NaN  2022-01-30 00:00:00   2022-02-06 00:00:00   \n",
              "6304314             NaN  2022-01-30 00:00:00   2022-02-06 00:00:00   \n",
              "6304315             NaN  2022-01-30 00:00:00   2022-02-06 00:00:00   \n",
              "6304316             NaN  2022-01-30 00:00:00   2022-02-06 00:00:00   \n",
              "\n",
              "        Tipo de recuperación Pertenencia étnica Nombre del grupo étnico  \n",
              "6304312               Tiempo                  6                     NaN  \n",
              "6304313               Tiempo                  6                     NaN  \n",
              "6304314               Tiempo                  6                     NaN  \n",
              "6304315               Tiempo                  6                     NaN  \n",
              "6304316               Tiempo                  6                     NaN  \n",
              "\n",
              "[5 rows x 23 columns]"
            ],
            "text/html": [
              "\n",
              "  <div id=\"df-d5f3e8b5-d87b-45e4-9a34-58a9bfba7582\">\n",
              "    <div class=\"colab-df-container\">\n",
              "      <div>\n",
              "<style scoped>\n",
              "    .dataframe tbody tr th:only-of-type {\n",
              "        vertical-align: middle;\n",
              "    }\n",
              "\n",
              "    .dataframe tbody tr th {\n",
              "        vertical-align: top;\n",
              "    }\n",
              "\n",
              "    .dataframe thead th {\n",
              "        text-align: right;\n",
              "    }\n",
              "</style>\n",
              "<table border=\"1\" class=\"dataframe\">\n",
              "  <thead>\n",
              "    <tr style=\"text-align: right;\">\n",
              "      <th></th>\n",
              "      <th>fecha reporte web</th>\n",
              "      <th>ID de caso</th>\n",
              "      <th>Fecha de notificación</th>\n",
              "      <th>Código DIVIPOLA departamento</th>\n",
              "      <th>Nombre departamento</th>\n",
              "      <th>Código DIVIPOLA municipio</th>\n",
              "      <th>Nombre municipio</th>\n",
              "      <th>Edad</th>\n",
              "      <th>Unidad de medida de edad</th>\n",
              "      <th>Sexo</th>\n",
              "      <th>...</th>\n",
              "      <th>Código ISO del país</th>\n",
              "      <th>Nombre del país</th>\n",
              "      <th>Recuperado</th>\n",
              "      <th>Fecha de inicio de síntomas</th>\n",
              "      <th>Fecha de muerte</th>\n",
              "      <th>Fecha de diagnóstico</th>\n",
              "      <th>Fecha de recuperación</th>\n",
              "      <th>Tipo de recuperación</th>\n",
              "      <th>Pertenencia étnica</th>\n",
              "      <th>Nombre del grupo étnico</th>\n",
              "    </tr>\n",
              "  </thead>\n",
              "  <tbody>\n",
              "    <tr>\n",
              "      <th>6304312</th>\n",
              "      <td>2022-02-05 00:00:00</td>\n",
              "      <td>5956386</td>\n",
              "      <td>2022-01-19 00:00:00</td>\n",
              "      <td>50</td>\n",
              "      <td>META</td>\n",
              "      <td>50001</td>\n",
              "      <td>VILLAVICENCIO</td>\n",
              "      <td>47</td>\n",
              "      <td>1</td>\n",
              "      <td>M</td>\n",
              "      <td>...</td>\n",
              "      <td>NaN</td>\n",
              "      <td>NaN</td>\n",
              "      <td>Recuperado</td>\n",
              "      <td>2022-01-15 00:00:00</td>\n",
              "      <td>NaN</td>\n",
              "      <td>2022-01-30 00:00:00</td>\n",
              "      <td>2022-02-06 00:00:00</td>\n",
              "      <td>Tiempo</td>\n",
              "      <td>6</td>\n",
              "      <td>NaN</td>\n",
              "    </tr>\n",
              "    <tr>\n",
              "      <th>6304313</th>\n",
              "      <td>2022-02-05 00:00:00</td>\n",
              "      <td>5956387</td>\n",
              "      <td>2022-01-19 00:00:00</td>\n",
              "      <td>50</td>\n",
              "      <td>META</td>\n",
              "      <td>50001</td>\n",
              "      <td>VILLAVICENCIO</td>\n",
              "      <td>39</td>\n",
              "      <td>1</td>\n",
              "      <td>M</td>\n",
              "      <td>...</td>\n",
              "      <td>NaN</td>\n",
              "      <td>NaN</td>\n",
              "      <td>Recuperado</td>\n",
              "      <td>2022-01-15 00:00:00</td>\n",
              "      <td>NaN</td>\n",
              "      <td>2022-01-30 00:00:00</td>\n",
              "      <td>2022-02-06 00:00:00</td>\n",
              "      <td>Tiempo</td>\n",
              "      <td>6</td>\n",
              "      <td>NaN</td>\n",
              "    </tr>\n",
              "    <tr>\n",
              "      <th>6304314</th>\n",
              "      <td>2022-02-05 00:00:00</td>\n",
              "      <td>5956388</td>\n",
              "      <td>2022-01-19 00:00:00</td>\n",
              "      <td>50</td>\n",
              "      <td>META</td>\n",
              "      <td>50001</td>\n",
              "      <td>VILLAVICENCIO</td>\n",
              "      <td>35</td>\n",
              "      <td>1</td>\n",
              "      <td>M</td>\n",
              "      <td>...</td>\n",
              "      <td>NaN</td>\n",
              "      <td>NaN</td>\n",
              "      <td>Recuperado</td>\n",
              "      <td>2022-01-15 00:00:00</td>\n",
              "      <td>NaN</td>\n",
              "      <td>2022-01-30 00:00:00</td>\n",
              "      <td>2022-02-06 00:00:00</td>\n",
              "      <td>Tiempo</td>\n",
              "      <td>6</td>\n",
              "      <td>NaN</td>\n",
              "    </tr>\n",
              "    <tr>\n",
              "      <th>6304315</th>\n",
              "      <td>2022-02-05 00:00:00</td>\n",
              "      <td>5956389</td>\n",
              "      <td>2022-01-19 00:00:00</td>\n",
              "      <td>50</td>\n",
              "      <td>META</td>\n",
              "      <td>50001</td>\n",
              "      <td>VILLAVICENCIO</td>\n",
              "      <td>11</td>\n",
              "      <td>1</td>\n",
              "      <td>M</td>\n",
              "      <td>...</td>\n",
              "      <td>NaN</td>\n",
              "      <td>NaN</td>\n",
              "      <td>Recuperado</td>\n",
              "      <td>2022-01-15 00:00:00</td>\n",
              "      <td>NaN</td>\n",
              "      <td>2022-01-30 00:00:00</td>\n",
              "      <td>2022-02-06 00:00:00</td>\n",
              "      <td>Tiempo</td>\n",
              "      <td>6</td>\n",
              "      <td>NaN</td>\n",
              "    </tr>\n",
              "    <tr>\n",
              "      <th>6304316</th>\n",
              "      <td>2022-02-05 00:00:00</td>\n",
              "      <td>5956390</td>\n",
              "      <td>2022-01-19 00:00:00</td>\n",
              "      <td>50</td>\n",
              "      <td>META</td>\n",
              "      <td>50001</td>\n",
              "      <td>VILLAVICENCIO</td>\n",
              "      <td>34</td>\n",
              "      <td>1</td>\n",
              "      <td>F</td>\n",
              "      <td>...</td>\n",
              "      <td>NaN</td>\n",
              "      <td>NaN</td>\n",
              "      <td>Recuperado</td>\n",
              "      <td>2022-01-15 00:00:00</td>\n",
              "      <td>NaN</td>\n",
              "      <td>2022-01-30 00:00:00</td>\n",
              "      <td>2022-02-06 00:00:00</td>\n",
              "      <td>Tiempo</td>\n",
              "      <td>6</td>\n",
              "      <td>NaN</td>\n",
              "    </tr>\n",
              "  </tbody>\n",
              "</table>\n",
              "<p>5 rows × 23 columns</p>\n",
              "</div>\n",
              "      <button class=\"colab-df-convert\" onclick=\"convertToInteractive('df-d5f3e8b5-d87b-45e4-9a34-58a9bfba7582')\"\n",
              "              title=\"Convert this dataframe to an interactive table.\"\n",
              "              style=\"display:none;\">\n",
              "        \n",
              "  <svg xmlns=\"http://www.w3.org/2000/svg\" height=\"24px\"viewBox=\"0 0 24 24\"\n",
              "       width=\"24px\">\n",
              "    <path d=\"M0 0h24v24H0V0z\" fill=\"none\"/>\n",
              "    <path d=\"M18.56 5.44l.94 2.06.94-2.06 2.06-.94-2.06-.94-.94-2.06-.94 2.06-2.06.94zm-11 1L8.5 8.5l.94-2.06 2.06-.94-2.06-.94L8.5 2.5l-.94 2.06-2.06.94zm10 10l.94 2.06.94-2.06 2.06-.94-2.06-.94-.94-2.06-.94 2.06-2.06.94z\"/><path d=\"M17.41 7.96l-1.37-1.37c-.4-.4-.92-.59-1.43-.59-.52 0-1.04.2-1.43.59L10.3 9.45l-7.72 7.72c-.78.78-.78 2.05 0 2.83L4 21.41c.39.39.9.59 1.41.59.51 0 1.02-.2 1.41-.59l7.78-7.78 2.81-2.81c.8-.78.8-2.07 0-2.86zM5.41 20L4 18.59l7.72-7.72 1.47 1.35L5.41 20z\"/>\n",
              "  </svg>\n",
              "      </button>\n",
              "      \n",
              "  <style>\n",
              "    .colab-df-container {\n",
              "      display:flex;\n",
              "      flex-wrap:wrap;\n",
              "      gap: 12px;\n",
              "    }\n",
              "\n",
              "    .colab-df-convert {\n",
              "      background-color: #E8F0FE;\n",
              "      border: none;\n",
              "      border-radius: 50%;\n",
              "      cursor: pointer;\n",
              "      display: none;\n",
              "      fill: #1967D2;\n",
              "      height: 32px;\n",
              "      padding: 0 0 0 0;\n",
              "      width: 32px;\n",
              "    }\n",
              "\n",
              "    .colab-df-convert:hover {\n",
              "      background-color: #E2EBFA;\n",
              "      box-shadow: 0px 1px 2px rgba(60, 64, 67, 0.3), 0px 1px 3px 1px rgba(60, 64, 67, 0.15);\n",
              "      fill: #174EA6;\n",
              "    }\n",
              "\n",
              "    [theme=dark] .colab-df-convert {\n",
              "      background-color: #3B4455;\n",
              "      fill: #D2E3FC;\n",
              "    }\n",
              "\n",
              "    [theme=dark] .colab-df-convert:hover {\n",
              "      background-color: #434B5C;\n",
              "      box-shadow: 0px 1px 3px 1px rgba(0, 0, 0, 0.15);\n",
              "      filter: drop-shadow(0px 1px 2px rgba(0, 0, 0, 0.3));\n",
              "      fill: #FFFFFF;\n",
              "    }\n",
              "  </style>\n",
              "\n",
              "      <script>\n",
              "        const buttonEl =\n",
              "          document.querySelector('#df-d5f3e8b5-d87b-45e4-9a34-58a9bfba7582 button.colab-df-convert');\n",
              "        buttonEl.style.display =\n",
              "          google.colab.kernel.accessAllowed ? 'block' : 'none';\n",
              "\n",
              "        async function convertToInteractive(key) {\n",
              "          const element = document.querySelector('#df-d5f3e8b5-d87b-45e4-9a34-58a9bfba7582');\n",
              "          const dataTable =\n",
              "            await google.colab.kernel.invokeFunction('convertToInteractive',\n",
              "                                                     [key], {});\n",
              "          if (!dataTable) return;\n",
              "\n",
              "          const docLinkHtml = 'Like what you see? Visit the ' +\n",
              "            '<a target=\"_blank\" href=https://colab.research.google.com/notebooks/data_table.ipynb>data table notebook</a>'\n",
              "            + ' to learn more about interactive tables.';\n",
              "          element.innerHTML = '';\n",
              "          dataTable['output_type'] = 'display_data';\n",
              "          await google.colab.output.renderOutput(dataTable, element);\n",
              "          const docLink = document.createElement('div');\n",
              "          docLink.innerHTML = docLinkHtml;\n",
              "          element.appendChild(docLink);\n",
              "        }\n",
              "      </script>\n",
              "    </div>\n",
              "  </div>\n",
              "  "
            ]
          },
          "metadata": {},
          "execution_count": 5
        }
      ]
    },
    {
      "cell_type": "markdown",
      "source": [
        "La información en cada una de las columnas corresponde a las características individuales de cada caso, entre las que están la edad, sexo, ubicación geográfica del caso, pertenencia étnica, entre otras. Estas características se pueden leer en la siguiente celda."
      ],
      "metadata": {
        "id": "TRteIDw1oXXr"
      }
    },
    {
      "cell_type": "code",
      "source": [
        "covidco_cpo.info()"
      ],
      "metadata": {
        "colab": {
          "base_uri": "https://localhost:8080/"
        },
        "id": "TcQ6QtOaQ7pk",
        "outputId": "2810bfdd-b7e3-4808-9f65-324484fc4232"
      },
      "execution_count": null,
      "outputs": [
        {
          "output_type": "stream",
          "name": "stdout",
          "text": [
            "<class 'pandas.core.frame.DataFrame'>\n",
            "RangeIndex: 6304317 entries, 0 to 6304316\n",
            "Data columns (total 23 columns):\n",
            " #   Column                        Dtype  \n",
            "---  ------                        -----  \n",
            " 0   fecha reporte web             object \n",
            " 1   ID de caso                    int64  \n",
            " 2   Fecha de notificación         object \n",
            " 3   Código DIVIPOLA departamento  int64  \n",
            " 4   Nombre departamento           object \n",
            " 5   Código DIVIPOLA municipio     int64  \n",
            " 6   Nombre municipio              object \n",
            " 7   Edad                          int64  \n",
            " 8   Unidad de medida de edad      int64  \n",
            " 9   Sexo                          object \n",
            " 10  Tipo de contagio              object \n",
            " 11  Ubicación del caso            object \n",
            " 12  Estado                        object \n",
            " 13  Código ISO del país           float64\n",
            " 14  Nombre del país               object \n",
            " 15  Recuperado                    object \n",
            " 16  Fecha de inicio de síntomas   object \n",
            " 17  Fecha de muerte               object \n",
            " 18  Fecha de diagnóstico          object \n",
            " 19  Fecha de recuperación         object \n",
            " 20  Tipo de recuperación          object \n",
            " 21  Pertenencia étnica            int64  \n",
            " 22  Nombre del grupo étnico       object \n",
            "dtypes: float64(1), int64(6), object(16)\n",
            "memory usage: 1.1+ GB\n"
          ]
        }
      ]
    },
    {
      "cell_type": "markdown",
      "source": [
        "# Entendimiento de los datos"
      ],
      "metadata": {
        "id": "AAvR_OsuZza9"
      }
    },
    {
      "cell_type": "markdown",
      "source": [],
      "metadata": {
        "id": "f6F8we_ZsJym"
      }
    },
    {
      "cell_type": "markdown",
      "source": [
        "**Pertenencia étnica de los contagiados**\n",
        "\n",
        "\n"
      ],
      "metadata": {
        "id": "O0Eo0-uDZyBG"
      }
    },
    {
      "cell_type": "markdown",
      "source": [
        "La pertenencia étnica del individuo se clasifica con un npumero del uno al seis donde el 1 corresponde a Indígena, 2 a ROM, 3 a Raizal, 4 a Palenquero, 5 a Negro y 6 a otro. Como se puede ver a continuación, el grueso de la población contagiada en Colombia tiene el número 6 asignado en pertenencia étnica, es decir no tienen una pertenencia étnica definida debido a que estos son grupos minoritarios. "
      ],
      "metadata": {
        "id": "x9wSTsBruOBm"
      }
    },
    {
      "cell_type": "code",
      "source": [
        "etnias = covidco_cpo['Pertenencia étnica'].value_counts()\n",
        "etnias"
      ],
      "metadata": {
        "colab": {
          "base_uri": "https://localhost:8080/"
        },
        "id": "rB1VLLnGZskh",
        "outputId": "ba4d44ee-78ff-42e5-a8d0-f651c7cd25be"
      },
      "execution_count": null,
      "outputs": [
        {
          "output_type": "execute_result",
          "data": {
            "text/plain": [
              "6    6082832\n",
              "5     137547\n",
              "1      83395\n",
              "3        405\n",
              "2        138\n",
              "Name: Pertenencia étnica, dtype: int64"
            ]
          },
          "metadata": {},
          "execution_count": 7
        }
      ]
    },
    {
      "cell_type": "markdown",
      "source": [
        "En la siguiente celda se observa un histograma en el que es posible visualizar la proporción de las pertenencias étnicas respecto al total de casos.\n"
      ],
      "metadata": {
        "id": "n148qvu8vNAw"
      }
    },
    {
      "cell_type": "code",
      "source": [
        "ax_etn = covidco_cpo['Pertenencia étnica'].plot.hist()\n",
        "ax_etn.set_xlabel('Pertenencia étnica')\n",
        "ax_etn.set_title('Casos positivos de Covid')"
      ],
      "metadata": {
        "colab": {
          "base_uri": "https://localhost:8080/",
          "height": 458
        },
        "id": "focG841oY_OM",
        "outputId": "1ba8351d-0b64-46e4-aec2-1858a9523671"
      },
      "execution_count": null,
      "outputs": [
        {
          "output_type": "execute_result",
          "data": {
            "text/plain": [
              "Text(0.5, 1.0, 'Casos positivos de Covid')"
            ]
          },
          "metadata": {},
          "execution_count": 10
        },
        {
          "output_type": "display_data",
          "data": {
            "text/plain": [
              "<Figure size 660x440 with 1 Axes>"
            ],
            "image/png": "[encoded data removed]"
          },
          "metadata": {
            "needs_background": "light"
          }
        }
      ]
    },
    {
      "cell_type": "markdown",
      "source": [
        "**Número de recuperados, fallecidos y activos**"
      ],
      "metadata": {
        "id": "fpBTEqZOcWnx"
      }
    },
    {
      "cell_type": "markdown",
      "source": [
        "Para determinar el número de recuperados, fallecidos y activos registrados, se implementa una función que retorne la variable ‘Recuperado’ en mayúsculas y sin espacios, dándole uniformidad a la forma de los datos registrados y de esta manera poder obtener una mejor descripción de la población.\n"
      ],
      "metadata": {
        "id": "z2obWspwzS66"
      }
    },
    {
      "cell_type": "code",
      "source": [
        "def mayuscula(estado):\n",
        "  # Implemente esta función: debe retornar la última palabra, \n",
        "  # separando por espacio de la cadena \"name\" dada. \n",
        "  mayusculas = estado.upper()\n",
        "  estado_mayus = mayusculas.split()\n",
        "  return estado_mayus[-1]\n",
        "\n",
        "\n",
        "estado_contagiados = covidco_cpo['Recuperado'].astype(str).apply(lambda x: mayuscula(x)).value_counts()\n",
        "\n",
        "estado_contagiados"
      ],
      "metadata": {
        "colab": {
          "base_uri": "https://localhost:8080/"
        },
        "id": "sk-LOdNvchf4",
        "outputId": "685c8720-ee13-4638-d843-8c0f27cad6b8"
      },
      "execution_count": null,
      "outputs": [
        {
          "output_type": "execute_result",
          "data": {
            "text/plain": [
              "RECUPERADO    6131248\n",
              "FALLECIDO      141708\n",
              "NAN             27732\n",
              "ACTIVO           3629\n",
              "Name: Recuperado, dtype: int64"
            ]
          },
          "metadata": {},
          "execution_count": 11
        }
      ]
    },
    {
      "cell_type": "markdown",
      "source": [
        "**Tipo de contagio**"
      ],
      "metadata": {
        "id": "v5Qtk-4ktXW7"
      }
    },
    {
      "cell_type": "markdown",
      "source": [
        "También es posible conocer la proporción de casos en cada tipo de contagio (Comunitario, relacionado o importado)."
      ],
      "metadata": {
        "id": "MqZHDbpF57w7"
      }
    },
    {
      "cell_type": "code",
      "source": [
        "tipo_contagio = covidco_cpo['Tipo de contagio'].value_counts()\n",
        "tipo_contagio"
      ],
      "metadata": {
        "colab": {
          "base_uri": "https://localhost:8080/"
        },
        "id": "XkAetq8grUWl",
        "outputId": "6e9db1ae-ae48-4963-83c9-e2313c1b51a6"
      },
      "execution_count": null,
      "outputs": [
        {
          "output_type": "execute_result",
          "data": {
            "text/plain": [
              "Comunitaria    4364386\n",
              "Relacionado    1936232\n",
              "Importado         3696\n",
              "Comunitario          3\n",
              "Name: Tipo de contagio, dtype: int64"
            ]
          },
          "metadata": {},
          "execution_count": 13
        }
      ]
    },
    {
      "cell_type": "markdown",
      "source": [
        " **Gravedad del contagio**"
      ],
      "metadata": {
        "id": "JTBRhFFpt8zM"
      }
    },
    {
      "cell_type": "markdown",
      "source": [
        "Así como los casos en cada grado de gravedad, como se muestra (Leve, moderado, grave o fallecido) en seguida, en donde se empleo nuevamente la función 'mayuscula' para dar uniformidad al formato en el que estan registrados."
      ],
      "metadata": {
        "id": "Cf7mrHHY-NzE"
      }
    },
    {
      "cell_type": "code",
      "source": [
        "levedad = covidco_cpo['Estado'].astype(str).apply(lambda x: mayuscula(x)).value_counts()\n",
        "levedad"
      ],
      "metadata": {
        "colab": {
          "base_uri": "https://localhost:8080/"
        },
        "id": "AJsvfzwat8GV",
        "outputId": "f5d044a7-eb92-4006-901f-ab6ca6507d44"
      },
      "execution_count": null,
      "outputs": [
        {
          "output_type": "execute_result",
          "data": {
            "text/plain": [
              "LEVE         6128242\n",
              "FALLECIDO     141708\n",
              "NAN            32315\n",
              "MODERADO        1836\n",
              "GRAVE            216\n",
              "Name: Estado, dtype: int64"
            ]
          },
          "metadata": {},
          "execution_count": 10
        }
      ]
    },
    {
      "cell_type": "markdown",
      "source": [
        "**Tipo de recuperación**"
      ],
      "metadata": {
        "id": "dDamuZG_vRCC"
      }
    },
    {
      "cell_type": "markdown",
      "source": [
        "En la variable del conjunto de datos denominada ‘Tipo de recuperación’ se puede encontrar almacenada dos opciones. La primera, PCR, hace referencia a un individuo que se ha recuperado por segunda muestra, en la que el individuo ha salido negativo. Y la segunda, Tiempo, que caracteriza a la población que cumplió 30 días después de los primeros síntomas o toma de muestras sin síntomas, menor a setenta años y no hospitalizados."
      ],
      "metadata": {
        "id": "RMBTKoDJGfN5"
      }
    },
    {
      "cell_type": "code",
      "source": [
        "tipo_recuperacion = covidco_cpo['Tipo de recuperación'].value_counts()\n",
        "tipo_recuperacion"
      ],
      "metadata": {
        "colab": {
          "base_uri": "https://localhost:8080/"
        },
        "id": "xFTXLSbYvZ9j",
        "outputId": "17bb8f20-3a7c-46f9-afe7-b83df302fa5b"
      },
      "execution_count": null,
      "outputs": [
        {
          "output_type": "execute_result",
          "data": {
            "text/plain": [
              "Tiempo    5198212\n",
              "PCR        933036\n",
              "Name: Tipo de recuperación, dtype: int64"
            ]
          },
          "metadata": {},
          "execution_count": 11
        }
      ]
    },
    {
      "cell_type": "markdown",
      "source": [
        " **Edades en los casos positivos de COVID-19**"
      ],
      "metadata": {
        "id": "ZD71bfAFxPN_"
      }
    },
    {
      "cell_type": "markdown",
      "source": [
        "La variable 'Edad' almacena las edades de los individuos registrados como contagiados, de esta se pueden obtener medidas de estadística descriptiva que describan la población."
      ],
      "metadata": {
        "id": "AZKjh_efGn3j"
      }
    },
    {
      "cell_type": "code",
      "source": [
        "edad_desc = covidco_cpo['Edad'].describe()\n",
        "edad_desc"
      ],
      "metadata": {
        "colab": {
          "base_uri": "https://localhost:8080/"
        },
        "id": "Kc3B1Zf4-IQa",
        "outputId": "4e4d16d7-24dd-49a7-fe3b-f74605e8b4b1"
      },
      "execution_count": null,
      "outputs": [
        {
          "output_type": "execute_result",
          "data": {
            "text/plain": [
              "count    6.304317e+06\n",
              "mean     3.990681e+01\n",
              "std      1.835493e+01\n",
              "min      1.000000e+00\n",
              "25%      2.700000e+01\n",
              "50%      3.800000e+01\n",
              "75%      5.200000e+01\n",
              "max      1.140000e+02\n",
              "Name: Edad, dtype: float64"
            ]
          },
          "metadata": {},
          "execution_count": 12
        }
      ]
    },
    {
      "cell_type": "code",
      "source": [
        "covidco_cpo['Edad'].mode()"
      ],
      "metadata": {
        "colab": {
          "base_uri": "https://localhost:8080/"
        },
        "id": "ERqIeaiJK5HG",
        "outputId": "24918d9e-d804-450e-ad46-d1921e16fa70"
      },
      "execution_count": null,
      "outputs": [
        {
          "output_type": "execute_result",
          "data": {
            "text/plain": [
              "0    30\n",
              "dtype: int64"
            ]
          },
          "metadata": {},
          "execution_count": 17
        }
      ]
    },
    {
      "cell_type": "markdown",
      "source": [
        "Donde el promedio de edad de los contagiados es 39.9 años, la desviación estándar que describe la dispersión de las edades en la población es de 18.4. La persona con mayor edad registrada tiene 114 años y el menor registrado tiene 1 año y la edad más común te contagio son los 30 años. \n",
        "Esto se puede observar en una representación gráfica de la distribución de la variable edad en la población contagiada mediante un histograma.\n"
      ],
      "metadata": {
        "id": "3ytpTf6rJ6fH"
      }
    },
    {
      "cell_type": "code",
      "source": [
        "ax_ed = covidco_cpo['Edad'].plot.hist(bins = 20)\n",
        "ax_ed.set_xlabel('Edad (años)')\n",
        "ax_ed.set_title('Casos positivos de Covid')"
      ],
      "metadata": {
        "colab": {
          "base_uri": "https://localhost:8080/",
          "height": 458
        },
        "id": "wJyBcNM9BIvl",
        "outputId": "6c2b445a-8ede-4887-a414-85833271d623"
      },
      "execution_count": null,
      "outputs": [
        {
          "output_type": "execute_result",
          "data": {
            "text/plain": [
              "Text(0.5, 1.0, 'Casos positivos de Covid')"
            ]
          },
          "metadata": {},
          "execution_count": 13
        },
        {
          "output_type": "display_data",
          "data": {
            "text/plain": [
              "<Figure size 660x440 with 1 Axes>"
            ],
            "image/png": "[encoded data removed]"
          },
          "metadata": {
            "needs_background": "light"
          }
        }
      ]
    },
    {
      "cell_type": "markdown",
      "source": [
        "**Nombre del país**\n"
      ],
      "metadata": {
        "id": "6CXSBSzhb2QL"
      }
    },
    {
      "cell_type": "markdown",
      "source": [
        "En esta variable se registran únicamente los países de los que provengan los casos de individuos no colombianos. Se registran 88 nombres diferentes de países, siendo Estados Unidos el país con más casos.\n"
      ],
      "metadata": {
        "id": "WL_ozR2jb9aK"
      }
    },
    {
      "cell_type": "code",
      "source": [
        "covidco_cpo['Nombre del país'].value_counts()"
      ],
      "metadata": {
        "colab": {
          "base_uri": "https://localhost:8080/"
        },
        "id": "4t1CtuaMOpt1",
        "outputId": "a4452c43-bdeb-4533-a60a-f7cce81fd319"
      },
      "execution_count": null,
      "outputs": [
        {
          "output_type": "execute_result",
          "data": {
            "text/plain": [
              "ESTADOS UNIDOS DE AMÉRICA      1415\n",
              "MÉXICO                          385\n",
              "ESPAÑA                          369\n",
              "BRASIL                          285\n",
              "VENEZUELA                       177\n",
              "                               ... \n",
              "POLINESIA FRANCESA                1\n",
              "MONTENEGRO                        1\n",
              "REINO UNIDO                       1\n",
              "CHINA                             1\n",
              "REPUBLICA POPULAR DEL CONGO       1\n",
              "Name: Nombre del país, Length: 88, dtype: int64"
            ]
          },
          "metadata": {},
          "execution_count": 20
        }
      ]
    },
    {
      "cell_type": "markdown",
      "source": [
        "**Ubicación del caso**"
      ],
      "metadata": {
        "id": "iuDGeO6idXEK"
      }
    },
    {
      "cell_type": "markdown",
      "source": [
        "En la variable 'ubicación del caso' indica si el caso registrado se encontraba en la casa, en el hospital, en la UCI o si se trataba de un individuo fallecido."
      ],
      "metadata": {
        "id": "cRWn6-BAeAEj"
      }
    },
    {
      "cell_type": "code",
      "source": [
        "ubicacion = covidco_cpo['Ubicación del caso'].astype(str).apply(lambda x: mayuscula(x)).value_counts()\n",
        "ubicacion\n"
      ],
      "metadata": {
        "colab": {
          "base_uri": "https://localhost:8080/"
        },
        "id": "ZSxlgnkE-Umk",
        "outputId": "1d3ad2ba-4295-4436-b8c7-1664d344bb11"
      },
      "execution_count": null,
      "outputs": [
        {
          "output_type": "execute_result",
          "data": {
            "text/plain": [
              "CASA         6128242\n",
              "FALLECIDO     141708\n",
              "NAN            32315\n",
              "HOSPITAL        1836\n",
              "UCI              216\n",
              "Name: Ubicación del caso, dtype: int64"
            ]
          },
          "metadata": {},
          "execution_count": 23
        }
      ]
    },
    {
      "cell_type": "markdown",
      "source": [
        "# Preparación de los datos"
      ],
      "metadata": {
        "id": "GgZAbWbcgPiR"
      }
    },
    {
      "cell_type": "markdown",
      "source": [
        "Con el método count podemos dar cuentas de la cantidad de registros en cada una de las variables y con esto examinar si es acertado eliminar alguna de las columnas debido a que la falta datos pueda hacer de la muestra no concluyente."
      ],
      "metadata": {
        "id": "ojb7ihcWOMd0"
      }
    },
    {
      "cell_type": "code",
      "source": [
        "covidco_cpo.count()"
      ],
      "metadata": {
        "colab": {
          "base_uri": "https://localhost:8080/"
        },
        "id": "bwiln7GN76Dr",
        "outputId": "416b5ed8-b57d-4602-b559-f041cc1f1d08"
      },
      "execution_count": null,
      "outputs": [
        {
          "output_type": "execute_result",
          "data": {
            "text/plain": [
              "fecha reporte web               6304317\n",
              "ID de caso                      6304317\n",
              "Fecha de notificación           6304317\n",
              "Código DIVIPOLA departamento    6304317\n",
              "Nombre departamento             6304317\n",
              "Código DIVIPOLA municipio       6304317\n",
              "Nombre municipio                6304317\n",
              "Edad                            6304317\n",
              "Unidad de medida de edad        6304317\n",
              "Sexo                            6304317\n",
              "Tipo de contagio                6304317\n",
              "Ubicación del caso              6272002\n",
              "Estado                          6272002\n",
              "Código ISO del país                3702\n",
              "Nombre del país                    3710\n",
              "Recuperado                      6276585\n",
              "Fecha de inicio de síntomas     5817584\n",
              "Fecha de muerte                  174023\n",
              "Fecha de diagnóstico            6301562\n",
              "Fecha de recuperación           6131248\n",
              "Tipo de recuperación            6131248\n",
              "Pertenencia étnica              6304317\n",
              "Nombre del grupo étnico           83057\n",
              "dtype: int64"
            ]
          },
          "metadata": {},
          "execution_count": 14
        }
      ]
    },
    {
      "cell_type": "markdown",
      "source": [
        "Algunas de las columnas con una gran cantidad de datos faltantes son las correspondientes a las de país de procedencia, sin embargo esto se debe a que esta casilla es llenada sólo en los casos en el que el individuo no sea ciudadano Colombiano. Esta misma situación se presenta con la variable correspondiente al Nombre del grupo étnico al que pertenece el individuo."
      ],
      "metadata": {
        "id": "u1U1kUAdP9s4"
      }
    },
    {
      "cell_type": "markdown",
      "source": [
        "**Eliminación de los datos repetidos**"
      ],
      "metadata": {
        "id": "7AttDnpM5Aig"
      }
    },
    {
      "cell_type": "markdown",
      "source": [
        "En la siguiente celda se eliminan, si es el caso, los casos repetidos, esto es, los casos con un mismo número de identificación."
      ],
      "metadata": {
        "id": "hSWNOx6sRZy9"
      }
    },
    {
      "cell_type": "code",
      "source": [
        "covidco_cpo = covidco_cpo.drop_duplicates('ID de caso')\n",
        "covidco_cpo.count()"
      ],
      "metadata": {
        "colab": {
          "base_uri": "https://localhost:8080/"
        },
        "id": "o-cO0ZQg6Gqb",
        "outputId": "aa6ef688-8e13-4f4e-a90a-e74269cbca80"
      },
      "execution_count": null,
      "outputs": [
        {
          "output_type": "execute_result",
          "data": {
            "text/plain": [
              "fecha reporte web               6304317\n",
              "ID de caso                      6304317\n",
              "Fecha de notificación           6304317\n",
              "Código DIVIPOLA departamento    6304317\n",
              "Nombre departamento             6304317\n",
              "Código DIVIPOLA municipio       6304317\n",
              "Nombre municipio                6304317\n",
              "Edad                            6304317\n",
              "Unidad de medida de edad        6304317\n",
              "Sexo                            6304317\n",
              "Tipo de contagio                6304317\n",
              "Ubicación del caso              6272002\n",
              "Estado                          6272002\n",
              "Código ISO del país                3702\n",
              "Nombre del país                    3710\n",
              "Recuperado                      6276585\n",
              "Fecha de inicio de síntomas     5817584\n",
              "Fecha de muerte                  174023\n",
              "Fecha de diagnóstico            6301562\n",
              "Fecha de recuperación           6131248\n",
              "Tipo de recuperación            6131248\n",
              "Pertenencia étnica              6304317\n",
              "Nombre del grupo étnico           83057\n",
              "dtype: int64"
            ]
          },
          "metadata": {},
          "execution_count": 15
        }
      ]
    },
    {
      "cell_type": "markdown",
      "source": [
        "**Selección de los datos relevantes para el proyecto**\n",
        "\n",
        "\n",
        "\n",
        "\n",
        "\n"
      ],
      "metadata": {
        "id": "m9ABoPYkagkh"
      }
    },
    {
      "cell_type": "markdown",
      "source": [
        "Por último se elimina del grupo de datos aquellas variables que no serán relevantes para el estudio y análisis que se ha propuesto, como las fechas de registro, fallecimiento o recuperación."
      ],
      "metadata": {
        "id": "idW-2nzURx11"
      }
    },
    {
      "cell_type": "code",
      "source": [
        "covidco_cpo.drop(columns=covidco_cpo.columns[[0, 1, 2, 4, 6, 8, 16, 17, 18, 19]], inplace=True)\n",
        "covidco_cpo.count()\n",
        "\n",
        "#,, 'ID de caso', 'Nombre departamento', 'Nombre municipio' 'Unidad de medida de edad', 'Fecha de inicio de síntomas', 'Fecha de muerte', 'Fecha de diagnóstico', 'Fecha de recuperación'"
      ],
      "metadata": {
        "id": "zuzxQxOyaVDu",
        "colab": {
          "base_uri": "https://localhost:8080/"
        },
        "outputId": "44e962a4-7f15-4be9-abcc-cfe34c6b4a51"
      },
      "execution_count": null,
      "outputs": [
        {
          "output_type": "execute_result",
          "data": {
            "text/plain": [
              "Código DIVIPOLA departamento    6304317\n",
              "Código DIVIPOLA municipio       6304317\n",
              "Edad                            6304317\n",
              "Sexo                            6304317\n",
              "Tipo de contagio                6304317\n",
              "Ubicación del caso              6272002\n",
              "Estado                          6272002\n",
              "Código ISO del país                3702\n",
              "Nombre del país                    3710\n",
              "Recuperado                      6276585\n",
              "Tipo de recuperación            6131248\n",
              "Pertenencia étnica              6304317\n",
              "Nombre del grupo étnico           83057\n",
              "dtype: int64"
            ]
          },
          "metadata": {},
          "execution_count": 16
        }
      ]
    },
    {
      "cell_type": "markdown",
      "source": [
        "# Análisis de los datos\n"
      ],
      "metadata": {
        "id": "WBeP38uI3yNA"
      }
    },
    {
      "cell_type": "markdown",
      "source": [
        "**Casos de agentes recuperados y fallecidos**"
      ],
      "metadata": {
        "id": "DafpjnvbbP0v"
      }
    },
    {
      "cell_type": "markdown",
      "source": [
        "En un primer lugar se hace una separación del conjunto de datos en recuperados, fallecidos y activos con el fin de analizar cada uno de los grupos."
      ],
      "metadata": {
        "id": "9ZwG4BvhSV-S"
      }
    },
    {
      "cell_type": "code",
      "source": [
        "covidco_cpo_mayus = covidco_cpo\n",
        "covidco_cpo_mayus['Recuperado'] = covidco_cpo['Recuperado'].astype(str).apply(lambda x: mayuscula(x))\n",
        "\n",
        "\n"
      ],
      "metadata": {
        "id": "OreraBOUhA7j"
      },
      "execution_count": null,
      "outputs": []
    },
    {
      "cell_type": "code",
      "source": [
        "fallecidos = covidco_cpo_mayus.groupby('Recuperado').get_group('FALLECIDO')\n",
        "recuperados = covidco_cpo_mayus.groupby('Recuperado').get_group('RECUPERADO')\n",
        "activos = covidco_cpo_mayus.groupby('Recuperado').get_group('ACTIVO')"
      ],
      "metadata": {
        "id": "53wfv1LubYtZ"
      },
      "execution_count": null,
      "outputs": []
    },
    {
      "cell_type": "markdown",
      "source": [
        "\n",
        "\n",
        "1.   Fallecidos\n",
        "\n",
        "\n"
      ],
      "metadata": {
        "id": "Cftr-sJer-3d"
      }
    },
    {
      "cell_type": "markdown",
      "source": [
        "\n",
        "\n",
        "\n",
        "> A continuación obtenemos el promedio, desviación estandar, mínimo, máximo y otras medidas descriptivas de las edades de los casos positivos de COVID fallecidos:\n",
        "\n",
        "\n",
        "\n"
      ],
      "metadata": {
        "id": "H45ukMSVrRnQ"
      }
    },
    {
      "cell_type": "code",
      "source": [
        "fallecidos['Edad'].describe()"
      ],
      "metadata": {
        "colab": {
          "base_uri": "https://localhost:8080/"
        },
        "id": "LyMWHK5Aqo8E",
        "outputId": "1a63b152-6202-4c56-bd0a-86c712b9e98a"
      },
      "execution_count": null,
      "outputs": [
        {
          "output_type": "execute_result",
          "data": {
            "text/plain": [
              "count    141708.000000\n",
              "mean         68.403181\n",
              "std          15.522784\n",
              "min           1.000000\n",
              "25%          59.000000\n",
              "50%          70.000000\n",
              "75%          80.000000\n",
              "max         112.000000\n",
              "Name: Edad, dtype: float64"
            ]
          },
          "metadata": {},
          "execution_count": 29
        }
      ]
    },
    {
      "cell_type": "markdown",
      "source": [
        "La edad promedio de la población fallecida es de 68.4 años, se observa en el histograma que representa la distribución de los casos de COVID que han fallecido, una asimetría negativa."
      ],
      "metadata": {
        "id": "-ecan243UK8z"
      }
    },
    {
      "cell_type": "code",
      "source": [
        "ax_f = fallecidos['Edad'].plot.hist(bins = 20)\n",
        "ax_f.set_xlabel('Edad (años)')\n",
        "ax_f.set_title('Casos positivos de Covid fallecidos')"
      ],
      "metadata": {
        "colab": {
          "base_uri": "https://localhost:8080/",
          "height": 458
        },
        "id": "o2PxTCaIsPzl",
        "outputId": "ced123a9-7cd9-4771-909c-33fcfb8b9525"
      },
      "execution_count": null,
      "outputs": [
        {
          "output_type": "execute_result",
          "data": {
            "text/plain": [
              "Text(0.5, 1.0, 'Casos positivos de Covid fallecidos')"
            ]
          },
          "metadata": {},
          "execution_count": 20
        },
        {
          "output_type": "display_data",
          "data": {
            "text/plain": [
              "<Figure size 660x440 with 1 Axes>"
            ],
            "image/png": "[encoded data removed]"
          },
          "metadata": {
            "needs_background": "light"
          }
        }
      ]
    },
    {
      "cell_type": "markdown",
      "source": [
        "\n",
        "\n",
        "2.   Recuperados\n",
        "\n"
      ],
      "metadata": {
        "id": "zcHyTHx8vxbF"
      }
    },
    {
      "cell_type": "markdown",
      "source": [
        "\n",
        "\n",
        "> Promedio, desviación estandar, mínimo, máximo y otras medidas descriptivas de las edades de los casos positivos de COVID recuperados:\n",
        "\n"
      ],
      "metadata": {
        "id": "fHFTJE1BrXQi"
      }
    },
    {
      "cell_type": "code",
      "source": [
        "recuperados['Edad'].describe()"
      ],
      "metadata": {
        "colab": {
          "base_uri": "https://localhost:8080/"
        },
        "id": "THKsYL-GrXt4",
        "outputId": "a82ff488-536c-4000-94b2-71e23454d527"
      },
      "execution_count": null,
      "outputs": [
        {
          "output_type": "execute_result",
          "data": {
            "text/plain": [
              "count    6.131248e+06\n",
              "mean     3.911734e+01\n",
              "std      1.776283e+01\n",
              "min      1.000000e+00\n",
              "25%      2.600000e+01\n",
              "50%      3.700000e+01\n",
              "75%      5.100000e+01\n",
              "max      1.140000e+02\n",
              "Name: Edad, dtype: float64"
            ]
          },
          "metadata": {},
          "execution_count": 30
        }
      ]
    },
    {
      "cell_type": "markdown",
      "source": [
        "Por otra parte, se observa que la edad promedio de la población recuperada es de 39.1 años  y en el histograma que representa la distribución de los casos de COVID que se han recuperaod, una asimetría positiva."
      ],
      "metadata": {
        "id": "NyWQtgouW5ps"
      }
    },
    {
      "cell_type": "code",
      "source": [
        "ax_r = recuperados['Edad'].plot.hist(bins = 20)\n",
        "ax_r.set_xlabel('Edad (años)')\n",
        "ax_r.set_title('Casos positivos de Covid recuperados')"
      ],
      "metadata": {
        "colab": {
          "base_uri": "https://localhost:8080/",
          "height": 458
        },
        "id": "fY7_0NJfrXwy",
        "outputId": "fb2d29a4-ddc5-4692-994d-837f70572ebd"
      },
      "execution_count": null,
      "outputs": [
        {
          "output_type": "execute_result",
          "data": {
            "text/plain": [
              "Text(0.5, 1.0, 'Casos positivos de Covid recuperados')"
            ]
          },
          "metadata": {},
          "execution_count": 22
        },
        {
          "output_type": "display_data",
          "data": {
            "text/plain": [
              "<Figure size 660x440 with 1 Axes>"
            ],
            "image/png": "[encoded data removed]"
          },
          "metadata": {
            "needs_background": "light"
          }
        }
      ]
    },
    {
      "cell_type": "markdown",
      "source": [
        "En una comparativa de las ditribuciones de las distribuciones de edades para los tres grupos se puede ver que los sectores de la población fallecidos y activos representan una porción muy pequeña de la muestra, siendo el grupo de los recuperados el 97.7% de la muestra total. Por esta razón el promedio de edad de personas contagiadas solo difiere en 0.8 años del promedio de edad de personas recuperadas."
      ],
      "metadata": {
        "id": "gaw8dlELYEvc"
      }
    },
    {
      "cell_type": "code",
      "source": [
        "\n",
        "estados_dist = sns.FacetGrid(covidco_cpo_mayus, col=\"Recuperado\", hue= \"Recuperado\", palette = \"cool\")\n",
        "estados_dist = estados_dist.map(plt.hist, \"Edad\")"
      ],
      "metadata": {
        "colab": {
          "base_uri": "https://localhost:8080/",
          "height": 336
        },
        "id": "OlsUr3XmQ39y",
        "outputId": "ae7beabe-6e94-494f-9bbe-ea05708eab09"
      },
      "execution_count": null,
      "outputs": [
        {
          "output_type": "display_data",
          "data": {
            "text/plain": [
              "<Figure size 1320x330 with 4 Axes>"
            ],
            "image/png": "[encoded data removed]"
          },
          "metadata": {
            "needs_background": "light"
          }
        }
      ]
    },
    {
      "cell_type": "markdown",
      "source": [
        "**Casos masculinos y femeninos**"
      ],
      "metadata": {
        "id": "JtY84Y6-epkp"
      }
    },
    {
      "cell_type": "markdown",
      "source": [
        "Entre la muestra total se registró un mayor número de individuos con sexo femenino, siendo este grupo un 53.4% de la muestra total. Sin embargo esto puede deberse a que en Colombia la población femenina es ligeramente mayor que la masculina, siendo esta el 51,2% de la población total, según datos del Ministerio de Salud del año 2019."
      ],
      "metadata": {
        "id": "oHHY_fvPe0jO"
      }
    },
    {
      "cell_type": "code",
      "source": [
        "covidco_cpo_mayusb = covidco_cpo_mayus\n",
        "covidco_cpo_mayusb['Sexo'] = covidco_cpo['Sexo'].astype(str).apply(lambda x: mayuscula(x))\n",
        "covidco_cpo_mayusb['Sexo'].value_counts()\n",
        "\n"
      ],
      "metadata": {
        "colab": {
          "base_uri": "https://localhost:8080/"
        },
        "id": "GfupmfM5XG-U",
        "outputId": "66fadd84-f224-4381-b8b3-83659a1b5ad7"
      },
      "execution_count": null,
      "outputs": [
        {
          "output_type": "execute_result",
          "data": {
            "text/plain": [
              "F    3366616\n",
              "M    2937701\n",
              "Name: Sexo, dtype: int64"
            ]
          },
          "metadata": {},
          "execution_count": 31
        }
      ]
    },
    {
      "cell_type": "code",
      "source": [
        "\n",
        "sexo_dist = sns.FacetGrid(covidco_cpo_mayus, col=\"Sexo\", hue= \"Sexo\", palette = \"cool\")\n",
        "sexo_dist = sexo_dist.map(plt.hist, \"Edad\")"
      ],
      "metadata": {
        "colab": {
          "base_uri": "https://localhost:8080/",
          "height": 336
        },
        "id": "uKNBMQQGg2_4",
        "outputId": "bdaa8846-f0a2-41de-8002-9d87f22cb4d2"
      },
      "execution_count": null,
      "outputs": [
        {
          "output_type": "display_data",
          "data": {
            "text/plain": [
              "<Figure size 660x330 with 2 Axes>"
            ],
            "image/png": "[encoded data removed]"
          },
          "metadata": {
            "needs_background": "light"
          }
        }
      ]
    },
    {
      "cell_type": "markdown",
      "source": [
        "Sin embargo al examinar la parte de la muestra fallecida se observa que el subgrupo masculino tiene el 60.7% de los casos de fallecimiento. Lo que hace al subgrupo de hombres un grupo con un mayor riesgo de fallecimiento tras ser infectados por COVID. "
      ],
      "metadata": {
        "id": "xOiJJ3Q5gqSP"
      }
    },
    {
      "cell_type": "code",
      "source": [
        "fallecidos = covidco_cpo_mayus.groupby('Recuperado').get_group('FALLECIDO')\n",
        "recuperados = covidco_cpo_mayus.groupby('Recuperado').get_group('RECUPERADO')\n",
        "activos = covidco_cpo_mayus.groupby('Recuperado').get_group('ACTIVO')"
      ],
      "metadata": {
        "id": "PLAyoJtvnkIF"
      },
      "execution_count": null,
      "outputs": []
    },
    {
      "cell_type": "code",
      "source": [
        "fallecidos['Sexo'].value_counts()"
      ],
      "metadata": {
        "colab": {
          "base_uri": "https://localhost:8080/"
        },
        "id": "uo2RPkanf3kk",
        "outputId": "b64cac73-e467-4bf9-c42f-d559f7927952"
      },
      "execution_count": null,
      "outputs": [
        {
          "output_type": "execute_result",
          "data": {
            "text/plain": [
              "M    85956\n",
              "F    55752\n",
              "Name: Sexo, dtype: int64"
            ]
          },
          "metadata": {},
          "execution_count": 33
        }
      ]
    },
    {
      "cell_type": "code",
      "source": [
        "\n",
        "sex_dist = sns.FacetGrid(fallecidos, col=\"Sexo\", hue= \"Sexo\", palette = \"cool\")\n",
        "sex_dist = sex_dist.map(plt.hist, \"Edad\")"
      ],
      "metadata": {
        "colab": {
          "base_uri": "https://localhost:8080/",
          "height": 336
        },
        "id": "CB42NkhbmuuU",
        "outputId": "f54e80ac-54a9-4e95-e763-a26e6609fd33"
      },
      "execution_count": null,
      "outputs": [
        {
          "output_type": "display_data",
          "data": {
            "text/plain": [
              "<Figure size 660x330 with 2 Axes>"
            ],
            "image/png": "[encoded data removed]"
          },
          "metadata": {
            "needs_background": "light"
          }
        }
      ]
    },
    {
      "cell_type": "markdown",
      "source": [
        "Por otra parte, en el subgrupo de recuperados la población femenina haciende un 0.4% en comparación a la muestra total, siendo 53.8% de la población, mujeres."
      ],
      "metadata": {
        "id": "I_VBSh9qh8A_"
      }
    },
    {
      "cell_type": "code",
      "source": [
        "recuperados['Sexo'].value_counts()"
      ],
      "metadata": {
        "colab": {
          "base_uri": "https://localhost:8080/"
        },
        "id": "Vty7xWXkhfhI",
        "outputId": "2d6afb0f-bd3e-457f-9d07-3e70d6ebb175"
      },
      "execution_count": null,
      "outputs": [
        {
          "output_type": "execute_result",
          "data": {
            "text/plain": [
              "F    3296581\n",
              "M    2834667\n",
              "Name: Sexo, dtype: int64"
            ]
          },
          "metadata": {},
          "execution_count": 34
        }
      ]
    },
    {
      "cell_type": "code",
      "source": [
        "sex_dist = sns.FacetGrid(recuperados, col=\"Sexo\", hue= \"Sexo\", palette = \"cool\")\n",
        "sex_dist = sex_dist.map(plt.hist, \"Edad\")"
      ],
      "metadata": {
        "colab": {
          "base_uri": "https://localhost:8080/",
          "height": 336
        },
        "id": "D7snc-PVnvQX",
        "outputId": "8b4a10c1-ad94-44d6-ff78-e32874398358"
      },
      "execution_count": null,
      "outputs": [
        {
          "output_type": "display_data",
          "data": {
            "text/plain": [
              "<Figure size 660x330 with 2 Axes>"
            ],
            "image/png": "[encoded data removed]"
          },
          "metadata": {
            "needs_background": "light"
          }
        }
      ]
    },
    {
      "cell_type": "markdown",
      "source": [
        " \n",
        "En el análisis realizado se puede observar, como es de conocimiento que la población vulnerable rodea los 70 años de edad, pues es a esta edad donde se concentran las muertes de las personas que han sido registradas como contagiadas. Aunque se podrían mantener algunos tipos de prevenciones en este sector de la población,  en el periodo en el que se registran los datos, los casos de fallecimientos son escasos en comparación a los recuperados por lo que no representa un riesgo de colapso.\n"
      ],
      "metadata": {
        "id": "0-hVqtqHs5IJ"
      }
    },
    {
      "cell_type": "markdown",
      "source": [
        "***Pertenencia étnica**"
      ],
      "metadata": {
        "id": "TksYmJALir_l"
      }
    },
    {
      "cell_type": "markdown",
      "source": [
        "Por último examinamos la cantidad de recuperados y fallecidos en cada uno de los cuatro grupos minoritarios."
      ],
      "metadata": {
        "id": "gjzecnehmxie"
      }
    },
    {
      "cell_type": "code",
      "source": [
        "grupo1 = covidco_cpo_mayus.groupby('Pertenencia étnica').get_group(1)\n",
        "grupo5 = covidco_cpo_mayus.groupby('Pertenencia étnica').get_group(5)\n",
        "grupo3 = covidco_cpo_mayus.groupby('Pertenencia étnica').get_group(3)\n",
        "grupo2 = covidco_cpo_mayus.groupby('Pertenencia étnica').get_group(2)"
      ],
      "metadata": {
        "id": "x5PbsJ6dj96X"
      },
      "execution_count": null,
      "outputs": []
    },
    {
      "cell_type": "code",
      "source": [
        "grupo1['Recuperado'].value_counts()"
      ],
      "metadata": {
        "colab": {
          "base_uri": "https://localhost:8080/"
        },
        "id": "70Jao-x4lMgg",
        "outputId": "1d9252cf-f630-44da-ac22-5c0d25e6b2b3"
      },
      "execution_count": null,
      "outputs": [
        {
          "output_type": "execute_result",
          "data": {
            "text/plain": [
              "RECUPERADO    80591\n",
              "FALLECIDO      2278\n",
              "NAN             468\n",
              "ACTIVO           58\n",
              "Name: Recuperado, dtype: int64"
            ]
          },
          "metadata": {},
          "execution_count": 43
        }
      ]
    },
    {
      "cell_type": "markdown",
      "source": [
        "Esto es, en el grupo 1, de indígenas el 0.03% de la población contagiada falleció.\n"
      ],
      "metadata": {
        "id": "t15YVnGAn2CK"
      }
    },
    {
      "cell_type": "code",
      "source": [
        "grupo5['Recuperado'].value_counts()"
      ],
      "metadata": {
        "colab": {
          "base_uri": "https://localhost:8080/"
        },
        "id": "9WEvC4mSl8Ft",
        "outputId": "22f2739d-0143-4051-e06b-56e4b29438bf"
      },
      "execution_count": null,
      "outputs": [
        {
          "output_type": "execute_result",
          "data": {
            "text/plain": [
              "RECUPERADO    133376\n",
              "FALLECIDO       3537\n",
              "NAN              609\n",
              "ACTIVO            25\n",
              "Name: Recuperado, dtype: int64"
            ]
          },
          "metadata": {},
          "execution_count": 46
        }
      ]
    },
    {
      "cell_type": "markdown",
      "source": [
        "En el grupo 5, de negros el 0.02% de la población contagiada falleció."
      ],
      "metadata": {
        "id": "6vSlEG28oOBR"
      }
    },
    {
      "cell_type": "code",
      "source": [
        "grupo3['Recuperado'].value_counts()"
      ],
      "metadata": {
        "colab": {
          "base_uri": "https://localhost:8080/"
        },
        "id": "BZXEGSmvl_zm",
        "outputId": "107b4386-62e5-45df-a34b-f4435c8c18ac"
      },
      "execution_count": null,
      "outputs": [
        {
          "output_type": "execute_result",
          "data": {
            "text/plain": [
              "RECUPERADO    396\n",
              "FALLECIDO       7\n",
              "NAN             2\n",
              "Name: Recuperado, dtype: int64"
            ]
          },
          "metadata": {},
          "execution_count": 47
        }
      ]
    },
    {
      "cell_type": "markdown",
      "source": [
        "En el grupo 3, de población ROM el 0.02% de la población contagiada falleció."
      ],
      "metadata": {
        "id": "p279BR-mouuK"
      }
    },
    {
      "cell_type": "code",
      "source": [
        "grupo2['Recuperado'].value_counts()"
      ],
      "metadata": {
        "colab": {
          "base_uri": "https://localhost:8080/"
        },
        "id": "m38OaN0FmEi9",
        "outputId": "18434c1a-825f-4626-eac4-a59b1d7cb8b8"
      },
      "execution_count": null,
      "outputs": [
        {
          "output_type": "execute_result",
          "data": {
            "text/plain": [
              "RECUPERADO    132\n",
              "FALLECIDO       6\n",
              "Name: Recuperado, dtype: int64"
            ]
          },
          "metadata": {},
          "execution_count": 48
        }
      ]
    },
    {
      "cell_type": "markdown",
      "source": [
        "En el grupo 2, de palenqueros el 0.04% de la población contagiada falleció."
      ],
      "metadata": {
        "id": "kRKhPLuopAsd"
      }
    },
    {
      "cell_type": "markdown",
      "source": [
        "Por otra parte, para la población que no tiene pertenencia étnica, el grupo 6,  se obtienen estas mismas medidas."
      ],
      "metadata": {
        "id": "Bcd1vnEyqVTL"
      }
    },
    {
      "cell_type": "code",
      "source": [
        "grupo6 = covidco_cpo_mayus.groupby('Pertenencia étnica').get_group(6)"
      ],
      "metadata": {
        "id": "XQXgJJVqncGB"
      },
      "execution_count": null,
      "outputs": []
    },
    {
      "cell_type": "code",
      "source": [
        "grupo6['Recuperado'].value_counts()"
      ],
      "metadata": {
        "colab": {
          "base_uri": "https://localhost:8080/"
        },
        "id": "nJ6Mv4ROnkRS",
        "outputId": "1d84c288-329b-4109-93ae-2a3016d8e0f4"
      },
      "execution_count": null,
      "outputs": [
        {
          "output_type": "execute_result",
          "data": {
            "text/plain": [
              "RECUPERADO    5916753\n",
              "FALLECIDO      135880\n",
              "NAN             26653\n",
              "ACTIVO           3546\n",
              "Name: Recuperado, dtype: int64"
            ]
          },
          "metadata": {},
          "execution_count": 50
        }
      ]
    },
    {
      "cell_type": "markdown",
      "source": [
        "Siendo el 0.02% de este sector de la población, casos fallecidos. Con esto podríamos decir que los grupos minoritarios de indígenas y palenqueros son grupos con un mayor riesgo de fallecer tras haberse contagiado de COVID-19, sin embargo debido a el pequeño porcentaje que representan los casos fallecidos habría que hacer más estudios para probar esta hipótesis."
      ],
      "metadata": {
        "id": "_Cq8h6sEpChz"
      }
    },
    {
      "cell_type": "markdown",
      "source": [
        "# Referencias\n"
      ],
      "metadata": {
        "id": "4LoUFZAojr8U"
      }
    },
    {
      "cell_type": "markdown",
      "source": [
        "\n",
        "*   Datos.gov.co. 2022. Casos positivos de COVID-19 en Colombia. [online] Recuperado de: <https://www.datos.gov.co/Salud-y-Protecci-n-Social/Casos-positivos-de-COVID-19-en-Colombia/gt2j-8ykr> [Accessed 10 September 2022].\n",
        "*   Descripción general de vacunación en Colombia.Our World in Data. [online] Recuperado de: https://ourworldindata.org/covid-vaccinations?country=~COL#select-countries-to-show-in-all-charts\n",
        "\n"
      ],
      "metadata": {
        "id": "VXS_gwfzjxv5"
      }
    }
  ]
}